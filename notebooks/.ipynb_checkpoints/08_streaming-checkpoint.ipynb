{
 "cells": [
  {
   "cell_type": "markdown",
   "id": "cbecebcf",
   "metadata": {},
   "source": [
    "# Structured Streaming"
   ]
  },
  {
   "cell_type": "code",
   "execution_count": 1,
   "id": "b18a1eeb",
   "metadata": {},
   "outputs": [],
   "source": [
    "from pyspark.sql import SparkSession\n",
    "from pyspark.sql.types import *\n",
    "from pyspark.sql.functions import *"
   ]
  },
  {
   "cell_type": "code",
   "execution_count": 2,
   "id": "47b37e17",
   "metadata": {},
   "outputs": [],
   "source": [
    "spark = (SparkSession\n",
    "        .builder\n",
    "        .appName(\"streamEX\")\n",
    "        .getOrCreate())"
   ]
  },
  {
   "cell_type": "markdown",
   "id": "eeb2dc1f",
   "metadata": {},
   "source": [
    "#### Step 1: Define Input Sources"
   ]
  },
  {
   "cell_type": "code",
   "execution_count": 3,
   "id": "59689708",
   "metadata": {},
   "outputs": [],
   "source": [
    "### Genberates lines DF as an unbounted table of newline-separated text data, read from localhost:9999\n",
    "lines = (spark\n",
    "            .readStream.format(\"socket\")\n",
    "            .option(\"host\", \"localhost\")\n",
    "            .option(\"port\", 9999)\n",
    "            .load())"
   ]
  },
  {
   "cell_type": "markdown",
   "id": "6933bd59",
   "metadata": {},
   "source": [
    "#### Step 2: Transform Data\n",
    "Stateless Transformations: select(), filter(), map(), etc. Do not require info from previous rows to process next row.\n",
    "<br/>\n",
    "Stateful Transformations: count(), etc. Requires maintaining state to combine data across multiple rows. Anything involving grouping, joining, aggregating, etc are stateful."
   ]
  },
  {
   "cell_type": "code",
   "execution_count": 4,
   "id": "466cd873",
   "metadata": {},
   "outputs": [],
   "source": [
    "### Now we can apply some typical DF operations. This splits the lines into individual words and then counts them.\n",
    "words = lines.select(split(col(\"value\"), \"\\\\s\").alias(\"word\"))\n",
    "counts = words.groupBy(\"word\").count()"
   ]
  },
  {
   "cell_type": "markdown",
   "id": "6348e010",
   "metadata": {},
   "source": [
    "#### Step 3: Define Output Sink & Output Mode\n",
    "Will output to the console\n",
    "<br/>\n",
    "Then have choice of three output modes (how we will process the streaming data): <br/>\n",
    "Append: Default Mode. Only new rows are added to the result table/DF <br/>\n",
    "Complete: All rows are output at the end of every trigger <br/>\n",
    "Update: Only rows that were updated since the last trigger will be output\n",
    "    "
   ]
  },
  {
   "cell_type": "code",
   "execution_count": 5,
   "id": "18594996",
   "metadata": {},
   "outputs": [],
   "source": [
    "writer = counts.writeStream.format(\"console\").outputMode(\"complete\")"
   ]
  },
  {
   "cell_type": "markdown",
   "id": "26b05a31",
   "metadata": {},
   "source": [
    "#### Step 4: Specify Processing Details\n",
    "Indicate when to trigger the discovery and processing of newly available streaming data. Four options: <br/>\n",
    "Default: No trigger explicitly specified. Streaming query executes in subsequent micro-batches. <br/>\n",
    "Interval: Specify 'processingTime' (below) <br/>\n",
    "Once: Executes only once <br/>\n",
    "Continuous: Experimental mode - data processed continuously instead of micro-batches.\n"
   ]
  },
  {
   "cell_type": "code",
   "execution_count": 7,
   "id": "169c85cf",
   "metadata": {},
   "outputs": [],
   "source": [
    "checkpointDir = \"C:/Users/sean.cornillie/Education/LearningSparkV2/Spark_Dev/datasets/stream08/\""
   ]
  },
  {
   "cell_type": "code",
   "execution_count": 8,
   "id": "37403f7c",
   "metadata": {},
   "outputs": [],
   "source": [
    "writer2 = (writer\n",
    "              .trigger(processingTime=\"1 second\")\n",
    "              .option(\"checkpointLocation\", checkpointDir))\n"
   ]
  },
  {
   "cell_type": "markdown",
   "id": "21d597f1",
   "metadata": {},
   "source": [
    "#### Step 5: Start the query"
   ]
  },
  {
   "cell_type": "code",
   "execution_count": 9,
   "id": "b2bdab9b",
   "metadata": {},
   "outputs": [],
   "source": [
    "streamingQuery = writer2.start()"
   ]
  },
  {
   "cell_type": "code",
   "execution_count": 10,
   "id": "613c4441",
   "metadata": {},
   "outputs": [],
   "source": [
    "streamingQuery.stop()"
   ]
  },
  {
   "cell_type": "code",
   "execution_count": 11,
   "id": "bb4902b8",
   "metadata": {},
   "outputs": [],
   "source": [
    "spark.stop()"
   ]
  }
 ],
 "metadata": {
  "kernelspec": {
   "display_name": "Python 3 (ipykernel)",
   "language": "python",
   "name": "python3"
  },
  "language_info": {
   "codemirror_mode": {
    "name": "ipython",
    "version": 3
   },
   "file_extension": ".py",
   "mimetype": "text/x-python",
   "name": "python",
   "nbconvert_exporter": "python",
   "pygments_lexer": "ipython3",
   "version": "3.9.12"
  }
 },
 "nbformat": 4,
 "nbformat_minor": 5
}
