{
 "cells": [
  {
   "cell_type": "markdown",
   "id": "8bd230bf",
   "metadata": {},
   "source": [
    "# Building Data Lakes with Spark"
   ]
  },
  {
   "cell_type": "code",
   "execution_count": 3,
   "id": "c7ebe0c4",
   "metadata": {},
   "outputs": [],
   "source": [
    "from pyspark.sql import SparkSession\n",
    "from pyspark.sql.types import *\n",
    "from pyspark.sql.functions import *\n",
    "\n",
    "from delta import *"
   ]
  },
  {
   "cell_type": "code",
   "execution_count": 23,
   "id": "9256793e",
   "metadata": {},
   "outputs": [],
   "source": [
    "### Pulled this block of code from link below so we could run interactively\n",
    "### https://delta.io/learn/getting-started\n",
    "\n",
    "builder = SparkSession.builder.appName(\"MyApp\") \\\n",
    "    .config(\"spark.sql.extensions\", \"io.delta.sql.DeltaSparkSessionExtension\") \\\n",
    "    .config(\"spark.sql.catalog.spark_catalog\", \"org.apache.spark.sql.delta.catalog.DeltaCatalog\")\n",
    "\n",
    "spark = configure_spark_with_delta_pip(builder).getOrCreate()"
   ]
  },
  {
   "cell_type": "code",
   "execution_count": 7,
   "id": "c6927c54",
   "metadata": {},
   "outputs": [],
   "source": [
    "### Configure source data path\n",
    "sourcePath = \"C:/Users/sean.cornillie/Education/LearningSparkV2/Spark_Dev/datasets/loan-risks.snappy.parquet\"\n",
    "\n",
    "### Configure Delta Lake path\n",
    "deltaPath = \"/tmp/loans_delta\""
   ]
  },
  {
   "cell_type": "code",
   "execution_count": 8,
   "id": "b2371085",
   "metadata": {},
   "outputs": [],
   "source": [
    "### Create the Delta Lake table with the loans data\n",
    "(spark.read.format(\"parquet\")\n",
    "    .load(sourcePath)\n",
    "    .write.format(\"delta\")\n",
    "    .save(deltaPath))"
   ]
  },
  {
   "cell_type": "code",
   "execution_count": 9,
   "id": "8b1643b4",
   "metadata": {},
   "outputs": [],
   "source": [
    "### Create a view on the data called loans_data\n",
    "(spark.read.format(\"delta\")\n",
    "    .load(deltaPath)\n",
    "    .createOrReplaceTempView(\"loans_delta\"))"
   ]
  },
  {
   "cell_type": "code",
   "execution_count": 10,
   "id": "d37d2cbb",
   "metadata": {},
   "outputs": [
    {
     "name": "stdout",
     "output_type": "stream",
     "text": [
      "+--------+\n",
      "|count(1)|\n",
      "+--------+\n",
      "|   14705|\n",
      "+--------+\n",
      "\n"
     ]
    }
   ],
   "source": [
    "### Now we can perform typical spark sql functions within our delta lake\n",
    "spark.sql(\"\"\"SELECT count(*)\n",
    "             FROM loans_delta\"\"\").show()"
   ]
  },
  {
   "cell_type": "code",
   "execution_count": 11,
   "id": "4d24da4a",
   "metadata": {},
   "outputs": [
    {
     "name": "stdout",
     "output_type": "stream",
     "text": [
      "+-------+-----------+---------+----------+\n",
      "|loan_id|funded_amnt|paid_amnt|addr_state|\n",
      "+-------+-----------+---------+----------+\n",
      "|      0|       1000|   182.22|        CA|\n",
      "|      1|       1000|   361.19|        WA|\n",
      "|      2|       1000|   176.26|        TX|\n",
      "|      3|       1000|   1000.0|        OK|\n",
      "|      4|       1000|   249.98|        PA|\n",
      "+-------+-----------+---------+----------+\n",
      "\n"
     ]
    }
   ],
   "source": [
    "spark.sql(\"\"\"SELECT *\n",
    "             FROM loans_delta\n",
    "             LIMIT 5\"\"\").show()"
   ]
  },
  {
   "cell_type": "markdown",
   "id": "666a6c38",
   "metadata": {},
   "source": [
    "### Enforcing Schema on Write to Prevent Data Corruption"
   ]
  },
  {
   "cell_type": "code",
   "execution_count": 13,
   "id": "ff0bb988",
   "metadata": {},
   "outputs": [],
   "source": [
    "### Define our dummy data with extra column 'closed'\n",
    "cols = ['loan_id', 'funded_amnt', 'paid_amnt', 'addr_state', 'closed']\n",
    "\n",
    "items = [\n",
    "(1111111, 1000, 1000.0, 'TX', True),\n",
    "(2222222, 2000, 0.0, 'CA', False)\n",
    "]"
   ]
  },
  {
   "cell_type": "code",
   "execution_count": 14,
   "id": "37dcf55f",
   "metadata": {},
   "outputs": [
    {
     "ename": "AnalysisException",
     "evalue": "A schema mismatch detected when writing to the Delta table (Table ID: ca68afb8-3b0b-4326-835c-1978c753eb2e).\nTo enable schema migration using DataFrameWriter or DataStreamWriter, please set:\n'.option(\"mergeSchema\", \"true\")'.\nFor other operations, set the session configuration\nspark.databricks.delta.schema.autoMerge.enabled to \"true\". See the documentation\nspecific to the operation for details.\n\nTable schema:\nroot\n-- loan_id: long (nullable = true)\n-- funded_amnt: integer (nullable = true)\n-- paid_amnt: double (nullable = true)\n-- addr_state: string (nullable = true)\n\n\nData schema:\nroot\n-- loan_id: long (nullable = true)\n-- funded_amnt: integer (nullable = true)\n-- paid_amnt: double (nullable = true)\n-- addr_state: string (nullable = true)\n-- closed: boolean (nullable = true)\n\n         ",
     "output_type": "error",
     "traceback": [
      "\u001b[1;31m---------------------------------------------------------------------------\u001b[0m",
      "\u001b[1;31mAnalysisException\u001b[0m                         Traceback (most recent call last)",
      "Input \u001b[1;32mIn [14]\u001b[0m, in \u001b[0;36m<cell line: 4>\u001b[1;34m()\u001b[0m\n\u001b[0;32m      1\u001b[0m loanUpdates \u001b[38;5;241m=\u001b[39m (spark\u001b[38;5;241m.\u001b[39mcreateDataFrame(items, cols)\n\u001b[0;32m      2\u001b[0m                   \u001b[38;5;241m.\u001b[39mwithColumn(\u001b[38;5;124m\"\u001b[39m\u001b[38;5;124mfunded_amnt\u001b[39m\u001b[38;5;124m\"\u001b[39m, col(\u001b[38;5;124m\"\u001b[39m\u001b[38;5;124mfunded_amnt\u001b[39m\u001b[38;5;124m\"\u001b[39m)\u001b[38;5;241m.\u001b[39mcast(\u001b[38;5;124m\"\u001b[39m\u001b[38;5;124mint\u001b[39m\u001b[38;5;124m\"\u001b[39m)))\n\u001b[1;32m----> 4\u001b[0m \u001b[43mloanUpdates\u001b[49m\u001b[38;5;241;43m.\u001b[39;49m\u001b[43mwrite\u001b[49m\u001b[38;5;241;43m.\u001b[39;49m\u001b[43mformat\u001b[49m\u001b[43m(\u001b[49m\u001b[38;5;124;43m\"\u001b[39;49m\u001b[38;5;124;43mdelta\u001b[39;49m\u001b[38;5;124;43m\"\u001b[39;49m\u001b[43m)\u001b[49m\u001b[38;5;241;43m.\u001b[39;49m\u001b[43mmode\u001b[49m\u001b[43m(\u001b[49m\u001b[38;5;124;43m\"\u001b[39;49m\u001b[38;5;124;43mappend\u001b[39;49m\u001b[38;5;124;43m\"\u001b[39;49m\u001b[43m)\u001b[49m\u001b[38;5;241;43m.\u001b[39;49m\u001b[43msave\u001b[49m\u001b[43m(\u001b[49m\u001b[43mdeltaPath\u001b[49m\u001b[43m)\u001b[49m\n",
      "File \u001b[1;32m~\\AppData\\Local\\Programs\\Python\\Python39\\lib\\site-packages\\pyspark\\sql\\readwriter.py:968\u001b[0m, in \u001b[0;36mDataFrameWriter.save\u001b[1;34m(self, path, format, mode, partitionBy, **options)\u001b[0m\n\u001b[0;32m    966\u001b[0m     \u001b[38;5;28mself\u001b[39m\u001b[38;5;241m.\u001b[39m_jwrite\u001b[38;5;241m.\u001b[39msave()\n\u001b[0;32m    967\u001b[0m \u001b[38;5;28;01melse\u001b[39;00m:\n\u001b[1;32m--> 968\u001b[0m     \u001b[38;5;28;43mself\u001b[39;49m\u001b[38;5;241;43m.\u001b[39;49m\u001b[43m_jwrite\u001b[49m\u001b[38;5;241;43m.\u001b[39;49m\u001b[43msave\u001b[49m\u001b[43m(\u001b[49m\u001b[43mpath\u001b[49m\u001b[43m)\u001b[49m\n",
      "File \u001b[1;32m~\\AppData\\Local\\Programs\\Python\\Python39\\lib\\site-packages\\py4j\\java_gateway.py:1321\u001b[0m, in \u001b[0;36mJavaMember.__call__\u001b[1;34m(self, *args)\u001b[0m\n\u001b[0;32m   1315\u001b[0m command \u001b[38;5;241m=\u001b[39m proto\u001b[38;5;241m.\u001b[39mCALL_COMMAND_NAME \u001b[38;5;241m+\u001b[39m\\\n\u001b[0;32m   1316\u001b[0m     \u001b[38;5;28mself\u001b[39m\u001b[38;5;241m.\u001b[39mcommand_header \u001b[38;5;241m+\u001b[39m\\\n\u001b[0;32m   1317\u001b[0m     args_command \u001b[38;5;241m+\u001b[39m\\\n\u001b[0;32m   1318\u001b[0m     proto\u001b[38;5;241m.\u001b[39mEND_COMMAND_PART\n\u001b[0;32m   1320\u001b[0m answer \u001b[38;5;241m=\u001b[39m \u001b[38;5;28mself\u001b[39m\u001b[38;5;241m.\u001b[39mgateway_client\u001b[38;5;241m.\u001b[39msend_command(command)\n\u001b[1;32m-> 1321\u001b[0m return_value \u001b[38;5;241m=\u001b[39m \u001b[43mget_return_value\u001b[49m\u001b[43m(\u001b[49m\n\u001b[0;32m   1322\u001b[0m \u001b[43m    \u001b[49m\u001b[43manswer\u001b[49m\u001b[43m,\u001b[49m\u001b[43m \u001b[49m\u001b[38;5;28;43mself\u001b[39;49m\u001b[38;5;241;43m.\u001b[39;49m\u001b[43mgateway_client\u001b[49m\u001b[43m,\u001b[49m\u001b[43m \u001b[49m\u001b[38;5;28;43mself\u001b[39;49m\u001b[38;5;241;43m.\u001b[39;49m\u001b[43mtarget_id\u001b[49m\u001b[43m,\u001b[49m\u001b[43m \u001b[49m\u001b[38;5;28;43mself\u001b[39;49m\u001b[38;5;241;43m.\u001b[39;49m\u001b[43mname\u001b[49m\u001b[43m)\u001b[49m\n\u001b[0;32m   1324\u001b[0m \u001b[38;5;28;01mfor\u001b[39;00m temp_arg \u001b[38;5;129;01min\u001b[39;00m temp_args:\n\u001b[0;32m   1325\u001b[0m     temp_arg\u001b[38;5;241m.\u001b[39m_detach()\n",
      "File \u001b[1;32m~\\AppData\\Local\\Programs\\Python\\Python39\\lib\\site-packages\\pyspark\\sql\\utils.py:196\u001b[0m, in \u001b[0;36mcapture_sql_exception.<locals>.deco\u001b[1;34m(*a, **kw)\u001b[0m\n\u001b[0;32m    192\u001b[0m converted \u001b[38;5;241m=\u001b[39m convert_exception(e\u001b[38;5;241m.\u001b[39mjava_exception)\n\u001b[0;32m    193\u001b[0m \u001b[38;5;28;01mif\u001b[39;00m \u001b[38;5;129;01mnot\u001b[39;00m \u001b[38;5;28misinstance\u001b[39m(converted, UnknownException):\n\u001b[0;32m    194\u001b[0m     \u001b[38;5;66;03m# Hide where the exception came from that shows a non-Pythonic\u001b[39;00m\n\u001b[0;32m    195\u001b[0m     \u001b[38;5;66;03m# JVM exception message.\u001b[39;00m\n\u001b[1;32m--> 196\u001b[0m     \u001b[38;5;28;01mraise\u001b[39;00m converted \u001b[38;5;28;01mfrom\u001b[39;00m \u001b[38;5;28mNone\u001b[39m\n\u001b[0;32m    197\u001b[0m \u001b[38;5;28;01melse\u001b[39;00m:\n\u001b[0;32m    198\u001b[0m     \u001b[38;5;28;01mraise\u001b[39;00m\n",
      "\u001b[1;31mAnalysisException\u001b[0m: A schema mismatch detected when writing to the Delta table (Table ID: ca68afb8-3b0b-4326-835c-1978c753eb2e).\nTo enable schema migration using DataFrameWriter or DataStreamWriter, please set:\n'.option(\"mergeSchema\", \"true\")'.\nFor other operations, set the session configuration\nspark.databricks.delta.schema.autoMerge.enabled to \"true\". See the documentation\nspecific to the operation for details.\n\nTable schema:\nroot\n-- loan_id: long (nullable = true)\n-- funded_amnt: integer (nullable = true)\n-- paid_amnt: double (nullable = true)\n-- addr_state: string (nullable = true)\n\n\nData schema:\nroot\n-- loan_id: long (nullable = true)\n-- funded_amnt: integer (nullable = true)\n-- paid_amnt: double (nullable = true)\n-- addr_state: string (nullable = true)\n-- closed: boolean (nullable = true)\n\n         "
     ]
    }
   ],
   "source": [
    "### This WILL throw a schema mismatch error (as intented by this exercise)\n",
    "loanUpdates = (spark.createDataFrame(items, cols)\n",
    "                  .withColumn(\"funded_amnt\", col(\"funded_amnt\").cast(\"int\")))\n",
    "\n",
    "loanUpdates.write.format(\"delta\").mode(\"append\").save(deltaPath)"
   ]
  },
  {
   "cell_type": "markdown",
   "id": "ba39a25a",
   "metadata": {},
   "source": [
    "### Updating Data within a Delta Lake table\n",
    "Let's say that all of the loans assigned to addr_state = 'OR' should have been assigned to 'WA'. <br/>\n",
    "If the data were in a parquet table, then we'd need to jump through some hoops to accomplish this. <br/>\n",
    "However, within a Delta Lake we can just use the DL API:"
   ]
  },
  {
   "cell_type": "code",
   "execution_count": 16,
   "id": "3374daa6",
   "metadata": {},
   "outputs": [],
   "source": [
    "### Create new table and just update with a one-liner.\n",
    "deltaTable = DeltaTable.forPath(spark, deltaPath)\n",
    "\n",
    "deltaTable.update(\"addr_state = 'OR'\", {\"addr_state\": \"'WA'\"})"
   ]
  },
  {
   "cell_type": "markdown",
   "id": "d9b56e18",
   "metadata": {},
   "source": [
    "### Deleting Data\n",
    "Need to be able to delte data on all loans that have been fully paid off (for example according to EU GDPR)"
   ]
  },
  {
   "cell_type": "code",
   "execution_count": 18,
   "id": "a4102af9",
   "metadata": {},
   "outputs": [],
   "source": [
    "### Again we can just use built in API to accomplish. Can also use SQL DELETE statement directly for same effect.\n",
    "deltaTable = DeltaTable.forPath(spark, deltaPath)\n",
    "\n",
    "deltaTable.delete(\"funded_amnt >= paid_amnt\")"
   ]
  },
  {
   "cell_type": "markdown",
   "id": "9d7e8309",
   "metadata": {},
   "source": [
    "### Auditing changes with operation history"
   ]
  },
  {
   "cell_type": "code",
   "execution_count": 19,
   "id": "ea8f4318",
   "metadata": {},
   "outputs": [
    {
     "name": "stdout",
     "output_type": "stream",
     "text": [
      "+-------+--------------------+------+--------+---------+--------------------+----+--------+---------+-----------+--------------+-------------+--------------------+------------+--------------------+\n",
      "|version|           timestamp|userId|userName|operation| operationParameters| job|notebook|clusterId|readVersion|isolationLevel|isBlindAppend|    operationMetrics|userMetadata|          engineInfo|\n",
      "+-------+--------------------+------+--------+---------+--------------------+----+--------+---------+-----------+--------------+-------------+--------------------+------------+--------------------+\n",
      "|      2|2023-01-23 13:11:...|  null|    null|   DELETE|{predicate -> [\"(...|null|    null|     null|          1|  Serializable|        false|{numRemovedFiles ...|        null|Apache-Spark/3.3....|\n",
      "|      1|2023-01-23 13:09:...|  null|    null|   UPDATE|{predicate -> (ad...|null|    null|     null|          0|  Serializable|        false|{numRemovedFiles ...|        null|Apache-Spark/3.3....|\n",
      "|      0|2023-01-23 12:44:...|  null|    null|    WRITE|{mode -> ErrorIfE...|null|    null|     null|       null|  Serializable|         true|{numFiles -> 1, n...|        null|Apache-Spark/3.3....|\n",
      "+-------+--------------------+------+--------+---------+--------------------+----+--------+---------+-----------+--------------+-------------+--------------------+------------+--------------------+\n",
      "\n"
     ]
    }
   ],
   "source": [
    "deltaTable.history().show()"
   ]
  },
  {
   "cell_type": "markdown",
   "id": "b70b16e9",
   "metadata": {},
   "source": [
    "### Querying previous snapshots with Time Travel"
   ]
  },
  {
   "cell_type": "code",
   "execution_count": 21,
   "id": "a75c9d86",
   "metadata": {},
   "outputs": [],
   "source": [
    "### Won't actually load these but reference the options for two different ways to accomplish\n",
    "#(spark.read\n",
    "#    .format(\"delta\")\n",
    "#    .option(\"timeStampAsOf\", \"2020-01-01\")\n",
    "#    .load(deltaPath))\n",
    "#\n",
    "#(spark.read\n",
    "#    .format(\"delta\")\n",
    "#    .option(\"versionAsOf\", \"4\")\n",
    "#    .load(deltaPath))"
   ]
  },
  {
   "cell_type": "code",
   "execution_count": 22,
   "id": "0b67ff9f",
   "metadata": {},
   "outputs": [],
   "source": [
    "spark.stop()"
   ]
  }
 ],
 "metadata": {
  "kernelspec": {
   "display_name": "Python 3 (ipykernel)",
   "language": "python",
   "name": "python3"
  },
  "language_info": {
   "codemirror_mode": {
    "name": "ipython",
    "version": 3
   },
   "file_extension": ".py",
   "mimetype": "text/x-python",
   "name": "python",
   "nbconvert_exporter": "python",
   "pygments_lexer": "ipython3",
   "version": "3.9.12"
  }
 },
 "nbformat": 4,
 "nbformat_minor": 5
}
