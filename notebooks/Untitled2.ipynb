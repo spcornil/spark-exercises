{
 "cells": [
  {
   "cell_type": "code",
   "execution_count": 3,
   "id": "df1310d1",
   "metadata": {},
   "outputs": [],
   "source": [
    "from pyspark.sql import SparkSession\n",
    "from pyspark.sql.types import *\n",
    "from pyspark.sql.functions import *\n",
    "\n",
    "from delta import *"
   ]
  },
  {
   "cell_type": "code",
   "execution_count": 6,
   "id": "3622db09",
   "metadata": {},
   "outputs": [],
   "source": [
    "builder = SparkSession.builder.appName(\"MyApp\") \\\n",
    "    .config(\"spark.sql.extensions\", \"io.delta.sql.DeltaSparkSessionExtension\") \\\n",
    "    .config(\"spark.sql.catalog.spark_catalog\", \"org.apache.spark.sql.delta.catalog.DeltaCatalog\")\n",
    "\n",
    "spark = configure_spark_with_delta_pip(builder).getOrCreate()"
   ]
  },
  {
   "cell_type": "code",
   "execution_count": 7,
   "id": "0497b9bf",
   "metadata": {},
   "outputs": [],
   "source": [
    "### Configure source data path\n",
    "sourcePath = \"C:/Users/sean.cornillie/Education/LearningSparkV2/Spark_Dev/datasets/loan-risks.snappy.parquet\"\n",
    "\n",
    "### Configure Delta Lake path\n",
    "deltaPath = \"/tmp/loans_delta\""
   ]
  },
  {
   "cell_type": "code",
   "execution_count": 8,
   "id": "fa5f5b04",
   "metadata": {},
   "outputs": [],
   "source": [
    "### Create the Delta Lake table with the loans data\n",
    "(spark.read.format(\"parquet\")\n",
    "    .load(sourcePath)\n",
    "    .write.format(\"delta\")\n",
    "    .save(deltaPath))"
   ]
  },
  {
   "cell_type": "code",
   "execution_count": 9,
   "id": "1e3949fb",
   "metadata": {},
   "outputs": [],
   "source": [
    "### Create a view on the data called loans_data\n",
    "(spark.read.format(\"delta\")\n",
    "    .load(deltaPath)\n",
    "    .createOrReplaceTempView(\"loans_delta\"))"
   ]
  },
  {
   "cell_type": "code",
   "execution_count": null,
   "id": "6ee5329e",
   "metadata": {},
   "outputs": [],
   "source": [
    "spark.sql(\"SELECT count(*)\n",
    "           FROM \")"
   ]
  }
 ],
 "metadata": {
  "kernelspec": {
   "display_name": "Python 3 (ipykernel)",
   "language": "python",
   "name": "python3"
  },
  "language_info": {
   "codemirror_mode": {
    "name": "ipython",
    "version": 3
   },
   "file_extension": ".py",
   "mimetype": "text/x-python",
   "name": "python",
   "nbconvert_exporter": "python",
   "pygments_lexer": "ipython3",
   "version": "3.9.12"
  }
 },
 "nbformat": 4,
 "nbformat_minor": 5
}
