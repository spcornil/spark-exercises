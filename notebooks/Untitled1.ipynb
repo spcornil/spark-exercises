{
 "cells": [
  {
   "cell_type": "markdown",
   "id": "dc897fac",
   "metadata": {},
   "source": [
    "# Structured Streaming"
   ]
  },
  {
   "cell_type": "code",
   "execution_count": 1,
   "id": "6002bede",
   "metadata": {},
   "outputs": [],
   "source": [
    "from pyspark.sql import SparkSession\n",
    "from pyspark.sql.types import *\n",
    "from pyspark.sql.functions import *"
   ]
  },
  {
   "cell_type": "code",
   "execution_count": 2,
   "id": "d5250192",
   "metadata": {},
   "outputs": [],
   "source": [
    "spark = (SparkSession\n",
    "        .builder\n",
    "        .appName(\"streamEX\")\n",
    "        .getOrCreate())"
   ]
  },
  {
   "cell_type": "code",
   "execution_count": 3,
   "id": "28eec819",
   "metadata": {},
   "outputs": [],
   "source": [
    "### Genberates lines DF as an unbounted table of newline-separated text data, read from localhost:9999\n",
    "lines = (spark\n",
    "            .readStream.format(\"socket\")\n",
    "            .option(\"host\", \"localhost\")\n",
    "            .option(\"port\", 9999)\n",
    "            .load())"
   ]
  },
  {
   "cell_type": "code",
   "execution_count": 4,
   "id": "4343ff24",
   "metadata": {},
   "outputs": [],
   "source": [
    "### Now we can apply some typical DF operations. This splits the lines into individual words and then counts them.\n",
    "words = lines.select(split(col(\"value\"), \"\\\\s\").alias(\"word\"))\n",
    "counts = words.groupBy(\"word\").count()"
   ]
  }
 ],
 "metadata": {
  "kernelspec": {
   "display_name": "Python 3 (ipykernel)",
   "language": "python",
   "name": "python3"
  },
  "language_info": {
   "codemirror_mode": {
    "name": "ipython",
    "version": 3
   },
   "file_extension": ".py",
   "mimetype": "text/x-python",
   "name": "python",
   "nbconvert_exporter": "python",
   "pygments_lexer": "ipython3",
   "version": "3.9.12"
  }
 },
 "nbformat": 4,
 "nbformat_minor": 5
}
